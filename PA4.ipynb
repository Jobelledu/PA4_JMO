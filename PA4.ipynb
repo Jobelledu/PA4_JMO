{
 "cells": [
  {
   "cell_type": "markdown",
   "id": "1741e579",
   "metadata": {},
   "source": [
    "## Justin Odle, FA 22, PA 3"
   ]
  },
  {
   "cell_type": "code",
   "execution_count": 1,
   "id": "b786af1e",
   "metadata": {},
   "outputs": [
    {
     "name": "stdout",
     "output_type": "stream",
     "text": [
      "0\n",
      "3\n",
      "6\n",
      "9\n",
      "12\n",
      "15\n",
      "18\n",
      "21\n",
      "24\n",
      "27\n",
      "30\n",
      "33\n",
      "36\n",
      "39\n",
      "42\n",
      "45\n",
      "48\n",
      "51\n",
      "54\n",
      "57\n",
      "60\n",
      "63\n",
      "66\n",
      "69\n",
      "72\n",
      "75\n",
      "78\n",
      "81\n",
      "84\n",
      "87\n",
      "90\n",
      "93\n",
      "96\n",
      "99\n"
     ]
    }
   ],
   "source": [
    "threes = list(range(0,100,3))\n",
    "for number in threes:\n",
    "    print(number)"
   ]
  },
  {
   "cell_type": "code",
   "execution_count": 5,
   "id": "57de1d61",
   "metadata": {},
   "outputs": [
    {
     "name": "stdout",
     "output_type": "stream",
     "text": [
      "What is the subjects age? 9\n",
      "Minor\n"
     ]
    }
   ],
   "source": [
    "age=int(input('What is the subjects age? '))\n",
    "\n",
    "if age<=18:\n",
    "    print('Minor')\n",
    "elif age<=64:\n",
    "    print('Adult')\n",
    "else:\n",
    "    print('Senior Citizen')\n"
   ]
  },
  {
   "cell_type": "code",
   "execution_count": 6,
   "id": "0eff44d4",
   "metadata": {},
   "outputs": [
    {
     "name": "stdout",
     "output_type": "stream",
     "text": [
      "What is the subjects age? 37\n",
      "Adult\n"
     ]
    }
   ],
   "source": [
    "age=int(input('What is the subjects age? '))\n",
    "\n",
    "if age<=18:\n",
    "    print('Minor')\n",
    "elif age<=64:\n",
    "    print('Adult')\n",
    "else:\n",
    "    print('Senior Citizen')"
   ]
  },
  {
   "cell_type": "code",
   "execution_count": 7,
   "id": "8c7da967",
   "metadata": {},
   "outputs": [
    {
     "name": "stdout",
     "output_type": "stream",
     "text": [
      "What is the subjects age? 78\n",
      "Senior Citizen\n"
     ]
    }
   ],
   "source": [
    "age=int(input('What is the subjects age? '))\n",
    "\n",
    "if age<=18:\n",
    "    print('Minor')\n",
    "elif age<=64:\n",
    "    print('Adult')\n",
    "else:\n",
    "    print('Senior Citizen')"
   ]
  },
  {
   "cell_type": "code",
   "execution_count": 16,
   "id": "359063cb",
   "metadata": {},
   "outputs": [
    {
     "name": "stdout",
     "output_type": "stream",
     "text": [
      "What is the subjects age? 5\n",
      "5 :Minor\n"
     ]
    }
   ],
   "source": [
    "age = (input('What is the subjects age? '))\n",
    "age = int(age)\n",
    "\n",
    "if age<=18:\n",
    "    print(age,':Minor')\n",
    "elif age<=64:\n",
    "    print(age,':Adult')\n",
    "else:\n",
    "    print(age,':Senior Citizen')"
   ]
  },
  {
   "cell_type": "code",
   "execution_count": 17,
   "id": "93500dc9",
   "metadata": {},
   "outputs": [
    {
     "name": "stdout",
     "output_type": "stream",
     "text": [
      "What is the subjects age? 45\n",
      "45 :Adult\n"
     ]
    }
   ],
   "source": [
    "age = (input('What is the subjects age? '))\n",
    "age = int(age)\n",
    "\n",
    "if age<=18:\n",
    "    print(age,':Minor')\n",
    "elif age<=64:\n",
    "    print(age,':Adult')\n",
    "else:\n",
    "    print(age,':Senior Citizen')"
   ]
  },
  {
   "cell_type": "code",
   "execution_count": 18,
   "id": "e5bc2d19",
   "metadata": {},
   "outputs": [
    {
     "name": "stdout",
     "output_type": "stream",
     "text": [
      "What is the subjects age? 112\n",
      "112 :Senior Citizen\n"
     ]
    }
   ],
   "source": [
    "age = (input('What is the subjects age? '))\n",
    "age = int(age)\n",
    "\n",
    "if age<=18:\n",
    "    print(age,':Minor')\n",
    "elif age<=64:\n",
    "    print(age,':Adult')\n",
    "else:\n",
    "    print(age,':Senior Citizen')"
   ]
  },
  {
   "cell_type": "code",
   "execution_count": null,
   "id": "54ad3fae",
   "metadata": {},
   "outputs": [],
   "source": []
  }
 ],
 "metadata": {
  "kernelspec": {
   "display_name": "Python 3 (ipykernel)",
   "language": "python",
   "name": "python3"
  },
  "language_info": {
   "codemirror_mode": {
    "name": "ipython",
    "version": 3
   },
   "file_extension": ".py",
   "mimetype": "text/x-python",
   "name": "python",
   "nbconvert_exporter": "python",
   "pygments_lexer": "ipython3",
   "version": "3.9.13"
  }
 },
 "nbformat": 4,
 "nbformat_minor": 5
}
